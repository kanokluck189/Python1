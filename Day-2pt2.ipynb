{
 "cells": [
  {
   "cell_type": "code",
   "execution_count": 1,
   "id": "d3c65cdf",
   "metadata": {},
   "outputs": [],
   "source": [
    "#int\n",
    "1,0,-5\n",
    "#float\n",
    "3.14,0.0,-2.7\n",
    "#string\n",
    "\"hello\",'123',\"it's fun\"\n",
    "#boolean\n",
    "True,False\n",
    "bool()\n",
    "#none\n",
    "None "
   ]
  },
  {
   "cell_type": "code",
   "execution_count": 2,
   "id": "4a7fb139",
   "metadata": {},
   "outputs": [
    {
     "name": "stdout",
     "output_type": "stream",
     "text": [
      "<class 'int'>\n",
      "False\n",
      "False\n"
     ]
    }
   ],
   "source": [
    "print(type(42))\n",
    "print(bool(0))\n",
    "print(isinstance(False, str))"
   ]
  },
  {
   "cell_type": "code",
   "execution_count": 3,
   "id": "45efe593",
   "metadata": {},
   "outputs": [
    {
     "name": "stdout",
     "output_type": "stream",
     "text": [
      "hello world\n"
     ]
    }
   ],
   "source": [
    "print('hello world')"
   ]
  },
  {
   "cell_type": "code",
   "execution_count": 4,
   "id": "a96e2d23",
   "metadata": {},
   "outputs": [],
   "source": [
    "#snale_case\n",
    "x_1 = 5\n",
    "#camelCase\n",
    "xOne = 10\n",
    "#PascalCase\n",
    "XOneMore = 15\n"
   ]
  },
  {
   "cell_type": "markdown",
   "id": "7991e004",
   "metadata": {},
   "source": [
    "x = 1\n",
    "s = \"hello\""
   ]
  }
 ],
 "metadata": {
  "kernelspec": {
   "display_name": "Python 3",
   "language": "python",
   "name": "python3"
  },
  "language_info": {
   "codemirror_mode": {
    "name": "ipython",
    "version": 3
   },
   "file_extension": ".py",
   "mimetype": "text/x-python",
   "name": "python",
   "nbconvert_exporter": "python",
   "pygments_lexer": "ipython3",
   "version": "3.11.4"
  }
 },
 "nbformat": 4,
 "nbformat_minor": 5
}
