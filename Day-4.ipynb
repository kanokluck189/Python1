{
 "cells": [
  {
   "cell_type": "code",
   "execution_count": null,
   "id": "fc58bc17",
   "metadata": {},
   "outputs": [],
   "source": [
    "celcius = int(input())\n",
    "print(\"Farenheit: \", celcius*(9/5)+32)"
   ]
  }
 ],
 "metadata": {
  "kernelspec": {
   "display_name": "Python 3",
   "language": "python",
   "name": "python3"
  },
  "language_info": {
   "codemirror_mode": {
    "name": "ipython",
    "version": 3
   },
   "file_extension": ".py",
   "mimetype": "text/x-python",
   "name": "python",
   "nbconvert_exporter": "python",
   "pygments_lexer": "ipython3",
   "version": "3.11.4"
  }
 },
 "nbformat": 4,
 "nbformat_minor": 5
}
