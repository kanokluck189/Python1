{
 "cells": [
  {
   "cell_type": "code",
   "execution_count": null,
   "id": "44847fb0",
   "metadata": {},
   "outputs": [],
   "source": [
    "num = int(input())\n",
    "\n",
    "if num % 2 == 0:\n",
    "    output = \"A\"\n",
    "    if num % 3 == 0:\n",
    "        output = \"C\"\n",
    "    else:\n",
    "        output = \"B\"\n",
    "else:\n",
    "    output = \"D\"\n",
    "\n",
    "print(output)"
   ]
  }
 ],
 "metadata": {
  "kernelspec": {
   "display_name": "Python 3",
   "language": "python",
   "name": "python3"
  },
  "language_info": {
   "codemirror_mode": {
    "name": "ipython",
    "version": 3
   },
   "file_extension": ".py",
   "mimetype": "text/x-python",
   "name": "python",
   "nbconvert_exporter": "python",
   "pygments_lexer": "ipython3",
   "version": "3.11.4"
  }
 },
 "nbformat": 4,
 "nbformat_minor": 5
}
